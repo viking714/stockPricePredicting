{
 "cells": [
  {
   "cell_type": "code",
   "execution_count": 37,
   "id": "d2760fad",
   "metadata": {},
   "outputs": [
    {
     "name": "stdout",
     "output_type": "stream",
     "text": [
      "Number of rows and columns:\n",
      "(1259, 7)\n"
     ]
    },
    {
     "data": {
      "text/html": [
       "<div>\n",
       "<style scoped>\n",
       "    .dataframe tbody tr th:only-of-type {\n",
       "        vertical-align: middle;\n",
       "    }\n",
       "\n",
       "    .dataframe tbody tr th {\n",
       "        vertical-align: top;\n",
       "    }\n",
       "\n",
       "    .dataframe thead th {\n",
       "        text-align: right;\n",
       "    }\n",
       "</style>\n",
       "<table border=\"1\" class=\"dataframe\">\n",
       "  <thead>\n",
       "    <tr style=\"text-align: right;\">\n",
       "      <th></th>\n",
       "      <th>Date</th>\n",
       "      <th>Open</th>\n",
       "      <th>High</th>\n",
       "      <th>Low</th>\n",
       "      <th>Close</th>\n",
       "      <th>Adj Close</th>\n",
       "      <th>Volume</th>\n",
       "    </tr>\n",
       "  </thead>\n",
       "  <tbody>\n",
       "    <tr>\n",
       "      <th>0</th>\n",
       "      <td>2015-07-10</td>\n",
       "      <td>52.444000</td>\n",
       "      <td>52.599998</td>\n",
       "      <td>51.563999</td>\n",
       "      <td>51.830002</td>\n",
       "      <td>51.830002</td>\n",
       "      <td>13054500</td>\n",
       "    </tr>\n",
       "    <tr>\n",
       "      <th>1</th>\n",
       "      <td>2015-07-13</td>\n",
       "      <td>52.450001</td>\n",
       "      <td>52.509998</td>\n",
       "      <td>51.209999</td>\n",
       "      <td>52.431999</td>\n",
       "      <td>52.431999</td>\n",
       "      <td>14801500</td>\n",
       "    </tr>\n",
       "    <tr>\n",
       "      <th>2</th>\n",
       "      <td>2015-07-14</td>\n",
       "      <td>52.419998</td>\n",
       "      <td>53.198002</td>\n",
       "      <td>52.102001</td>\n",
       "      <td>53.130001</td>\n",
       "      <td>53.130001</td>\n",
       "      <td>9538000</td>\n",
       "    </tr>\n",
       "    <tr>\n",
       "      <th>3</th>\n",
       "      <td>2015-07-15</td>\n",
       "      <td>53.348000</td>\n",
       "      <td>53.498001</td>\n",
       "      <td>52.416000</td>\n",
       "      <td>52.627998</td>\n",
       "      <td>52.627998</td>\n",
       "      <td>10108000</td>\n",
       "    </tr>\n",
       "    <tr>\n",
       "      <th>4</th>\n",
       "      <td>2015-07-16</td>\n",
       "      <td>52.844002</td>\n",
       "      <td>53.439999</td>\n",
       "      <td>52.632000</td>\n",
       "      <td>53.335999</td>\n",
       "      <td>53.335999</td>\n",
       "      <td>8080000</td>\n",
       "    </tr>\n",
       "  </tbody>\n",
       "</table>\n",
       "</div>"
      ],
      "text/plain": [
       "         Date       Open       High        Low      Close  Adj Close    Volume\n",
       "0  2015-07-10  52.444000  52.599998  51.563999  51.830002  51.830002  13054500\n",
       "1  2015-07-13  52.450001  52.509998  51.209999  52.431999  52.431999  14801500\n",
       "2  2015-07-14  52.419998  53.198002  52.102001  53.130001  53.130001   9538000\n",
       "3  2015-07-15  53.348000  53.498001  52.416000  52.627998  52.627998  10108000\n",
       "4  2015-07-16  52.844002  53.439999  52.632000  53.335999  53.335999   8080000"
      ]
     },
     "execution_count": 37,
     "metadata": {},
     "output_type": "execute_result"
    }
   ],
   "source": [
    "import math\n",
    "import matplotlib.pyplot as plt\n",
    "import keras\n",
    "import pandas as pd\n",
    "import numpy as np\n",
    "from tensorflow.keras.models import Sequential\n",
    "from tensorflow.keras.layers import Dense\n",
    "from tensorflow.keras.layers import LSTM\n",
    "from tensorflow.keras.layers import Dropout\n",
    "from tensorflow.keras.layers import *\n",
    "from sklearn.preprocessing import MinMaxScaler\n",
    "from sklearn.metrics import mean_squared_error\n",
    "from sklearn.metrics import mean_absolute_error\n",
    "from sklearn.model_selection import train_test_split\n",
    "from tensorflow.keras.callbacks import EarlyStopping\n",
    "\n",
    "df=pd.read_csv(\"./data/TSLA.csv\")\n",
    "print('Number of rows and columns:')\n",
    "print(df.shape)\n",
    "df.head(5)"
   ]
  },
  {
   "cell_type": "code",
   "execution_count": 31,
   "id": "4340f519",
   "metadata": {},
   "outputs": [],
   "source": [
    "train_size = 800\n",
    "training_set = df.iloc[:train_size, 1:2].values\n",
    "test_set = df.iloc[train_size:, 1:2].values"
   ]
  },
  {
   "cell_type": "code",
   "execution_count": 59,
   "id": "ffa38efa",
   "metadata": {},
   "outputs": [],
   "source": [
    "import pandas as pd\n",
    "from pandas import DataFrame\n",
    "from numpy import concatenate\n",
    "from pandas import concat\n",
    "\n",
    "def series_to_supervised(data, n_in=1, n_out=1, dropnan=True):\n",
    "    n_vars = 1 if type(data) is list else data.shape[1]\n",
    "    df = DataFrame(data)\n",
    "    cols, names = [], []\n",
    "    #i: n_in, n_in-1, ..., 1，为滞后期数\n",
    "    #分别代表t-n_in, ... ,t-1期\n",
    "    for i in range(n_in, 0, -1):\n",
    "        cols.append(df.shift(i))\n",
    "        names += [('var%d(t-%d)' % (j+1, i)) for j in range(n_vars)]\n",
    "    #i: 0, 1, ..., n_out-1，为超前预测的期数\n",
    "    #分别代表t，t+1， ... ,t+n_out-1期\n",
    "    for i in range(0, n_out):\n",
    "        cols.append(df.shift(-i))\n",
    "        if i == 0:\n",
    "            names += [('var%d(t)' % (j+1)) for j in range(n_vars)]\n",
    "        else:\n",
    "            names += [('var%d(t+%d)' % (j+1, i)) for j in range(n_vars)]\n",
    "    agg = concat(cols, axis=1)\n",
    "    agg.columns = names\n",
    "    if dropnan:\n",
    "        agg.dropna(inplace=True)\n",
    "    return agg\n",
    "\n",
    "#将时间序列问题转化为监督学习问题\n",
    "reframed = series_to_supervised(training_set, 5, 2)\n",
    "reframed = sc.fit_transform(reframed)"
   ]
  },
  {
   "cell_type": "code",
   "execution_count": 66,
   "id": "d90c7459",
   "metadata": {},
   "outputs": [
    {
     "data": {
      "text/plain": [
       "794"
      ]
     },
     "execution_count": 66,
     "metadata": {},
     "output_type": "execute_result"
    }
   ],
   "source": [
    "len(reframed)"
   ]
  },
  {
   "cell_type": "code",
   "execution_count": 65,
   "id": "32c83f57",
   "metadata": {},
   "outputs": [
    {
     "data": {
      "text/plain": [
       "795"
      ]
     },
     "execution_count": 65,
     "metadata": {},
     "output_type": "execute_result"
    }
   ],
   "source": [
    "len(X_train)"
   ]
  },
  {
   "cell_type": "code",
   "execution_count": 62,
   "id": "4b7c7e93",
   "metadata": {},
   "outputs": [
    {
     "data": {
      "text/plain": [
       "array([0.53582684, 0.56123915])"
      ]
     },
     "execution_count": 62,
     "metadata": {},
     "output_type": "execute_result"
    }
   ],
   "source": [
    "y_train[-2:]"
   ]
  },
  {
   "cell_type": "code",
   "execution_count": 54,
   "id": "8609b259",
   "metadata": {},
   "outputs": [],
   "source": [
    "# Feature Scaling\n",
    "sc = MinMaxScaler(feature_range = (0, 1))\n",
    "training_set_scaled = sc.fit_transform(training_set)\n",
    "# Creating a data structure with 60 time-steps and 1 output\n",
    "X_train = []\n",
    "y_train = []\n",
    "time_steps = 5\n",
    "for i in range(time_steps, train_size):\n",
    "    X_train.append(training_set_scaled[i-time_steps:i, 0])\n",
    "    y_train.append(training_set_scaled[i, 0])\n",
    "X_train, y_train = np.array(X_train), np.array(y_train)\n",
    "X_train = np.reshape(X_train, (X_train.shape[0], X_train.shape[1], 1))\n",
    "#(740, 60, 1)"
   ]
  },
  {
   "cell_type": "code",
   "execution_count": 38,
   "id": "7a2dad45",
   "metadata": {},
   "outputs": [
    {
     "name": "stdout",
     "output_type": "stream",
     "text": [
      "Epoch 1/100\n",
      "25/25 [==============================] - 1s 33ms/step - loss: 0.0587\n",
      "Epoch 2/100\n",
      "25/25 [==============================] - 1s 30ms/step - loss: 0.0162\n",
      "Epoch 3/100\n",
      "25/25 [==============================] - 1s 30ms/step - loss: 0.0141\n",
      "Epoch 4/100\n",
      "25/25 [==============================] - 1s 30ms/step - loss: 0.0131\n",
      "Epoch 5/100\n",
      "25/25 [==============================] - 1s 29ms/step - loss: 0.0117\n",
      "Epoch 6/100\n",
      "25/25 [==============================] - 1s 29ms/step - loss: 0.0119\n",
      "Epoch 7/100\n",
      "25/25 [==============================] - 1s 30ms/step - loss: 0.0125\n",
      "Epoch 8/100\n",
      "25/25 [==============================] - 1s 30ms/step - loss: 0.0110\n",
      "Epoch 9/100\n",
      "25/25 [==============================] - 1s 30ms/step - loss: 0.0111\n",
      "Epoch 10/100\n",
      "25/25 [==============================] - 1s 29ms/step - loss: 0.0125\n",
      "Epoch 11/100\n",
      "25/25 [==============================] - 1s 31ms/step - loss: 0.0116\n",
      "Epoch 12/100\n",
      "25/25 [==============================] - 1s 30ms/step - loss: 0.0091\n",
      "Epoch 13/100\n",
      "25/25 [==============================] - 1s 29ms/step - loss: 0.0099\n",
      "Epoch 14/100\n",
      "25/25 [==============================] - 1s 30ms/step - loss: 0.0093\n",
      "Epoch 15/100\n",
      "25/25 [==============================] - 1s 30ms/step - loss: 0.0115\n",
      "Epoch 16/100\n",
      "25/25 [==============================] - 1s 30ms/step - loss: 0.0087\n",
      "Epoch 17/100\n",
      "25/25 [==============================] - 1s 30ms/step - loss: 0.0080\n",
      "Epoch 18/100\n",
      "25/25 [==============================] - 1s 30ms/step - loss: 0.0089\n",
      "Epoch 19/100\n",
      "25/25 [==============================] - 1s 30ms/step - loss: 0.0081\n",
      "Epoch 20/100\n",
      "25/25 [==============================] - 1s 30ms/step - loss: 0.0083\n",
      "Epoch 21/100\n",
      "25/25 [==============================] - 1s 29ms/step - loss: 0.0067\n",
      "Epoch 22/100\n",
      "25/25 [==============================] - 1s 30ms/step - loss: 0.0075\n",
      "Epoch 23/100\n",
      "25/25 [==============================] - 1s 29ms/step - loss: 0.0073\n",
      "Epoch 24/100\n",
      "25/25 [==============================] - 1s 29ms/step - loss: 0.0068\n",
      "Epoch 25/100\n",
      "25/25 [==============================] - 1s 30ms/step - loss: 0.0075\n",
      "Epoch 26/100\n",
      "25/25 [==============================] - 1s 29ms/step - loss: 0.0063\n",
      "Epoch 27/100\n",
      "25/25 [==============================] - 1s 30ms/step - loss: 0.0064\n",
      "Epoch 28/100\n",
      "25/25 [==============================] - 1s 29ms/step - loss: 0.0061\n",
      "Epoch 29/100\n",
      "25/25 [==============================] - 1s 30ms/step - loss: 0.0062\n",
      "Epoch 30/100\n",
      "25/25 [==============================] - 1s 30ms/step - loss: 0.0059\n",
      "Epoch 31/100\n",
      "25/25 [==============================] - 1s 29ms/step - loss: 0.0064\n",
      "Epoch 32/100\n",
      "25/25 [==============================] - 1s 30ms/step - loss: 0.0055\n",
      "Epoch 33/100\n",
      "25/25 [==============================] - 1s 30ms/step - loss: 0.0054\n",
      "Epoch 34/100\n",
      "25/25 [==============================] - 1s 29ms/step - loss: 0.0058\n",
      "Epoch 35/100\n",
      "25/25 [==============================] - 1s 29ms/step - loss: 0.0055\n",
      "Epoch 36/100\n",
      "25/25 [==============================] - 1s 30ms/step - loss: 0.0058\n",
      "Epoch 37/100\n",
      "25/25 [==============================] - 1s 29ms/step - loss: 0.0051\n",
      "Epoch 38/100\n",
      "25/25 [==============================] - 1s 29ms/step - loss: 0.0055\n",
      "Epoch 39/100\n",
      "25/25 [==============================] - 1s 30ms/step - loss: 0.0053\n",
      "Epoch 40/100\n",
      "25/25 [==============================] - 1s 30ms/step - loss: 0.0049\n",
      "Epoch 41/100\n",
      "25/25 [==============================] - 1s 29ms/step - loss: 0.0051\n",
      "Epoch 42/100\n",
      "25/25 [==============================] - 1s 29ms/step - loss: 0.0067\n",
      "Epoch 43/100\n",
      "25/25 [==============================] - 1s 30ms/step - loss: 0.0047\n",
      "Epoch 44/100\n",
      "25/25 [==============================] - 1s 29ms/step - loss: 0.0053\n",
      "Epoch 45/100\n",
      "25/25 [==============================] - 1s 30ms/step - loss: 0.0050\n",
      "Epoch 46/100\n",
      "25/25 [==============================] - 1s 30ms/step - loss: 0.0046\n",
      "Epoch 47/100\n",
      "25/25 [==============================] - 1s 30ms/step - loss: 0.0045\n",
      "Epoch 48/100\n",
      "25/25 [==============================] - 1s 30ms/step - loss: 0.0042\n",
      "Epoch 49/100\n",
      "25/25 [==============================] - 1s 29ms/step - loss: 0.0043\n",
      "Epoch 50/100\n",
      "25/25 [==============================] - 1s 29ms/step - loss: 0.0069\n",
      "Epoch 51/100\n",
      "25/25 [==============================] - 1s 29ms/step - loss: 0.0048\n",
      "Epoch 52/100\n",
      "25/25 [==============================] - 1s 30ms/step - loss: 0.0040\n",
      "Epoch 53/100\n",
      "25/25 [==============================] - 1s 30ms/step - loss: 0.0039\n",
      "Epoch 54/100\n",
      "25/25 [==============================] - 1s 29ms/step - loss: 0.0048\n",
      "Epoch 55/100\n",
      "25/25 [==============================] - 1s 29ms/step - loss: 0.0044\n",
      "Epoch 56/100\n",
      "25/25 [==============================] - 1s 30ms/step - loss: 0.0041\n",
      "Epoch 57/100\n",
      "25/25 [==============================] - 1s 29ms/step - loss: 0.0040\n",
      "Epoch 58/100\n",
      "25/25 [==============================] - 1s 30ms/step - loss: 0.0040\n",
      "Epoch 59/100\n",
      "25/25 [==============================] - 1s 30ms/step - loss: 0.0039\n",
      "Epoch 60/100\n",
      "25/25 [==============================] - 1s 29ms/step - loss: 0.0052\n",
      "Epoch 61/100\n",
      "25/25 [==============================] - 1s 30ms/step - loss: 0.0046\n",
      "Epoch 62/100\n",
      "25/25 [==============================] - 1s 29ms/step - loss: 0.0038\n",
      "Epoch 63/100\n",
      "25/25 [==============================] - 1s 29ms/step - loss: 0.0036\n",
      "Epoch 64/100\n",
      "25/25 [==============================] - 1s 29ms/step - loss: 0.0034\n",
      "Epoch 65/100\n",
      "25/25 [==============================] - 1s 30ms/step - loss: 0.0039\n",
      "Epoch 66/100\n",
      "25/25 [==============================] - 1s 31ms/step - loss: 0.0034\n",
      "Epoch 67/100\n",
      "25/25 [==============================] - 1s 29ms/step - loss: 0.0031\n",
      "Epoch 68/100\n",
      "25/25 [==============================] - 1s 29ms/step - loss: 0.0037\n",
      "Epoch 69/100\n",
      "25/25 [==============================] - 1s 30ms/step - loss: 0.0038\n",
      "Epoch 70/100\n",
      "25/25 [==============================] - 1s 29ms/step - loss: 0.0038\n",
      "Epoch 71/100\n",
      "25/25 [==============================] - 1s 30ms/step - loss: 0.0039\n",
      "Epoch 72/100\n",
      "25/25 [==============================] - 1s 30ms/step - loss: 0.0036\n",
      "Epoch 73/100\n",
      "25/25 [==============================] - 1s 30ms/step - loss: 0.0034\n",
      "Epoch 74/100\n",
      "25/25 [==============================] - 1s 29ms/step - loss: 0.0034\n",
      "Epoch 75/100\n",
      "25/25 [==============================] - 1s 30ms/step - loss: 0.0033\n",
      "Epoch 76/100\n",
      "25/25 [==============================] - 1s 30ms/step - loss: 0.0038\n",
      "Epoch 77/100\n",
      "25/25 [==============================] - 1s 30ms/step - loss: 0.0032\n",
      "Epoch 78/100\n",
      "25/25 [==============================] - 1s 30ms/step - loss: 0.0033\n",
      "Epoch 79/100\n",
      "25/25 [==============================] - 1s 30ms/step - loss: 0.0032\n",
      "Epoch 80/100\n",
      "25/25 [==============================] - 1s 30ms/step - loss: 0.0035\n",
      "Epoch 81/100\n",
      "25/25 [==============================] - 1s 29ms/step - loss: 0.0031\n",
      "Epoch 82/100\n",
      "25/25 [==============================] - 1s 29ms/step - loss: 0.0034\n",
      "Epoch 83/100\n",
      "25/25 [==============================] - 1s 30ms/step - loss: 0.0031\n",
      "Epoch 84/100\n",
      "25/25 [==============================] - 1s 30ms/step - loss: 0.0033\n",
      "Epoch 85/100\n",
      "25/25 [==============================] - 1s 30ms/step - loss: 0.0035\n",
      "Epoch 86/100\n",
      "25/25 [==============================] - 1s 30ms/step - loss: 0.0032\n",
      "Epoch 87/100\n",
      "25/25 [==============================] - 1s 30ms/step - loss: 0.0030\n",
      "Epoch 88/100\n",
      "25/25 [==============================] - 1s 29ms/step - loss: 0.0035\n",
      "Epoch 89/100\n",
      "25/25 [==============================] - 1s 30ms/step - loss: 0.0033\n",
      "Epoch 90/100\n",
      "25/25 [==============================] - 1s 29ms/step - loss: 0.0031\n",
      "Epoch 91/100\n",
      "25/25 [==============================] - 1s 29ms/step - loss: 0.0034\n",
      "Epoch 92/100\n",
      "25/25 [==============================] - 1s 30ms/step - loss: 0.0038\n",
      "Epoch 93/100\n",
      "25/25 [==============================] - 1s 30ms/step - loss: 0.0038\n",
      "Epoch 94/100\n",
      "25/25 [==============================] - 1s 30ms/step - loss: 0.0032\n",
      "Epoch 95/100\n",
      "25/25 [==============================] - 1s 30ms/step - loss: 0.0027\n",
      "Epoch 96/100\n",
      "25/25 [==============================] - 1s 30ms/step - loss: 0.0031\n",
      "Epoch 97/100\n",
      "25/25 [==============================] - 1s 30ms/step - loss: 0.0029\n",
      "Epoch 98/100\n",
      "25/25 [==============================] - 1s 29ms/step - loss: 0.0032\n",
      "Epoch 99/100\n",
      "25/25 [==============================] - 1s 29ms/step - loss: 0.0037\n",
      "Epoch 100/100\n",
      "25/25 [==============================] - 1s 30ms/step - loss: 0.0032\n"
     ]
    },
    {
     "data": {
      "text/plain": [
       "<tensorflow.python.keras.callbacks.History at 0x7fbdb83f0b20>"
      ]
     },
     "execution_count": 38,
     "metadata": {},
     "output_type": "execute_result"
    }
   ],
   "source": [
    "model = Sequential()\n",
    "#Adding the first LSTM layer and some Dropout regularisation\n",
    "model.add(LSTM(units = 50, return_sequences = True, input_shape = (X_train.shape[1], 1)))\n",
    "model.add(Dropout(0.2))\n",
    "# Adding a second LSTM layer and some Dropout regularisation\n",
    "model.add(LSTM(units = 50, return_sequences = True))\n",
    "model.add(Dropout(0.2))\n",
    "# Adding a third LSTM layer and some Dropout regularisation\n",
    "model.add(LSTM(units = 50, return_sequences = True))\n",
    "model.add(Dropout(0.2))\n",
    "# Adding a fourth LSTM layer and some Dropout regularisation\n",
    "model.add(LSTM(units = 50))\n",
    "model.add(Dropout(0.2))\n",
    "# Adding the output layer\n",
    "model.add(Dense(units = 1))\n",
    "\n",
    "# Compiling the RNN\n",
    "model.compile(optimizer = 'adam', loss = 'mean_squared_error')\n",
    "\n",
    "# Fitting the RNN to the Training set\n",
    "model.fit(X_train, y_train, epochs = 50, batch_size = 32)"
   ]
  },
  {
   "cell_type": "code",
   "execution_count": 39,
   "id": "c605ebb8",
   "metadata": {},
   "outputs": [
    {
     "name": "stdout",
     "output_type": "stream",
     "text": [
      "(459, 60, 1)\n"
     ]
    }
   ],
   "source": [
    "# Getting the predicted stock price of 2017\n",
    "dataset_train = df.iloc[:800, 1:2]\n",
    "dataset_test = df.iloc[800:, 1:2]\n",
    "dataset_total = pd.concat((dataset_train, dataset_test), axis = 0)\n",
    "inputs = dataset_total[len(dataset_total) - len(dataset_test) - 60:].values\n",
    "inputs = inputs.reshape(-1,1)\n",
    "inputs = sc.transform(inputs)\n",
    "X_test = []\n",
    "for i in range(60, 519):\n",
    "    X_test.append(inputs[i-60:i, 0])\n",
    "X_test = np.array(X_test)\n",
    "X_test = np.reshape(X_test, (X_test.shape[0], X_test.shape[1], 1))\n",
    "print(X_test.shape)\n",
    "# (459, 60, 1)"
   ]
  },
  {
   "cell_type": "code",
   "execution_count": 41,
   "id": "c0922f9d",
   "metadata": {},
   "outputs": [
    {
     "name": "stdout",
     "output_type": "stream",
     "text": [
      "WARNING:tensorflow:Model was constructed with shape (None, 30, 1) for input Tensor(\"lstm_input:0\", shape=(None, 30, 1), dtype=float32), but it was called on an input with incompatible shape (None, 60, 1).\n"
     ]
    }
   ],
   "source": [
    "predicted_stock_price = model.predict(X_test)\n",
    "predicted_stock_price = sc.inverse_transform(predicted_stock_price)"
   ]
  },
  {
   "cell_type": "code",
   "execution_count": 43,
   "id": "47ce9430",
   "metadata": {},
   "outputs": [
    {
     "data": {
      "image/png": "[encoded data removed]",
      "text/plain": [
       "<Figure size 432x288 with 1 Axes>"
      ]
     },
     "metadata": {
      "needs_background": "light"
     },
     "output_type": "display_data"
    }
   ],
   "source": [
    "# Visualising the results\n",
    "plt.plot(df.loc[800:, 'Date'],dataset_test.values, color = 'red', label = 'Real TESLA Stock Price')\n",
    "plt.plot(df.loc[800:, 'Date'],predicted_stock_price, color = 'blue', label = 'Predicted TESLA Stock Price')\n",
    "plt.xticks(np.arange(0,459,50))\n",
    "plt.title('TESLA Stock Price Prediction')\n",
    "plt.xlabel('Time')\n",
    "plt.ylabel('TESLA Stock Price')\n",
    "plt.legend()\n",
    "plt.show()"
   ]
  },
  {
   "cell_type": "code",
   "execution_count": null,
   "id": "9a67ba6a",
   "metadata": {},
   "outputs": [],
   "source": []
  }
 ],
 "metadata": {
  "kernelspec": {
   "display_name": "Python 3.8 - AzureML",
   "language": "python",
   "name": "python38-azureml"
  },
  "language_info": {
   "codemirror_mode": {
    "name": "ipython",
    "version": 3
   },
   "file_extension": ".py",
   "mimetype": "text/x-python",
   "name": "python",
   "nbconvert_exporter": "python",
   "pygments_lexer": "ipython3",
   "version": "3.8.1"
  }
 },
 "nbformat": 4,
 "nbformat_minor": 5
}
