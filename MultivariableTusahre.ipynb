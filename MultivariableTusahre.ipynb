{
 "cells": [
  {
   "cell_type": "code",
   "execution_count": 1,
   "id": "4af64b2a",
   "metadata": {},
   "outputs": [
    {
     "name": "stdout",
     "output_type": "stream",
     "text": [
      "本接口即将停止更新，请尽快使用Pro版接口：https://waditu.com/document/2\n"
     ]
    }
   ],
   "source": [
    "\n",
    "import tushare as ts\n",
    "df = ts.get_hist_data('002497')"
   ]
  },
  {
   "cell_type": "code",
   "execution_count": 15,
   "id": "9f23fac2",
   "metadata": {},
   "outputs": [],
   "source": [
    "from math import sqrt\n",
    "from numpy import concatenate\n",
    "from matplotlib import pyplot\n",
    "from pandas import read_csv\n",
    "from pandas import DataFrame\n",
    "from pandas import concat\n",
    "from sklearn.preprocessing import MinMaxScaler\n",
    "from sklearn.preprocessing import LabelEncoder\n",
    "from sklearn.metrics import mean_squared_error\n",
    "from tensorflow.keras.models import Sequential\n",
    "from tensorflow.keras.layers import Dense,Dropout\n",
    "from tensorflow.keras.layers import LSTM\n",
    "import pandas as pd\n",
    "import numpy as np"
   ]
  },
  {
   "cell_type": "code",
   "execution_count": 6,
   "id": "e39a4cdb",
   "metadata": {},
   "outputs": [
    {
     "data": {
      "text/html": [
       "<div>\n",
       "<style scoped>\n",
       "    .dataframe tbody tr th:only-of-type {\n",
       "        vertical-align: middle;\n",
       "    }\n",
       "\n",
       "    .dataframe tbody tr th {\n",
       "        vertical-align: top;\n",
       "    }\n",
       "\n",
       "    .dataframe thead th {\n",
       "        text-align: right;\n",
       "    }\n",
       "</style>\n",
       "<table border=\"1\" class=\"dataframe\">\n",
       "  <thead>\n",
       "    <tr style=\"text-align: right;\">\n",
       "      <th></th>\n",
       "      <th>open</th>\n",
       "      <th>high</th>\n",
       "      <th>close</th>\n",
       "      <th>low</th>\n",
       "      <th>volume</th>\n",
       "      <th>price_change</th>\n",
       "      <th>p_change</th>\n",
       "      <th>ma5</th>\n",
       "      <th>ma10</th>\n",
       "      <th>ma20</th>\n",
       "      <th>v_ma5</th>\n",
       "      <th>v_ma10</th>\n",
       "      <th>v_ma20</th>\n",
       "      <th>turnover</th>\n",
       "    </tr>\n",
       "    <tr>\n",
       "      <th>date</th>\n",
       "      <th></th>\n",
       "      <th></th>\n",
       "      <th></th>\n",
       "      <th></th>\n",
       "      <th></th>\n",
       "      <th></th>\n",
       "      <th></th>\n",
       "      <th></th>\n",
       "      <th></th>\n",
       "      <th></th>\n",
       "      <th></th>\n",
       "      <th></th>\n",
       "      <th></th>\n",
       "      <th></th>\n",
       "    </tr>\n",
       "  </thead>\n",
       "  <tbody>\n",
       "    <tr>\n",
       "      <th>2018-12-26</th>\n",
       "      <td>6.90</td>\n",
       "      <td>6.96</td>\n",
       "      <td>6.82</td>\n",
       "      <td>6.78</td>\n",
       "      <td>121353.57</td>\n",
       "      <td>-0.08</td>\n",
       "      <td>-1.16</td>\n",
       "      <td>6.820</td>\n",
       "      <td>6.820</td>\n",
       "      <td>6.820</td>\n",
       "      <td>121353.57</td>\n",
       "      <td>121353.57</td>\n",
       "      <td>121353.57</td>\n",
       "      <td>1.49</td>\n",
       "    </tr>\n",
       "    <tr>\n",
       "      <th>2018-12-27</th>\n",
       "      <td>6.93</td>\n",
       "      <td>6.95</td>\n",
       "      <td>6.60</td>\n",
       "      <td>6.59</td>\n",
       "      <td>162765.00</td>\n",
       "      <td>-0.22</td>\n",
       "      <td>-3.23</td>\n",
       "      <td>6.710</td>\n",
       "      <td>6.710</td>\n",
       "      <td>6.710</td>\n",
       "      <td>142059.29</td>\n",
       "      <td>142059.29</td>\n",
       "      <td>142059.29</td>\n",
       "      <td>2.00</td>\n",
       "    </tr>\n",
       "    <tr>\n",
       "      <th>2018-12-28</th>\n",
       "      <td>6.66</td>\n",
       "      <td>6.76</td>\n",
       "      <td>6.64</td>\n",
       "      <td>6.58</td>\n",
       "      <td>123392.06</td>\n",
       "      <td>0.04</td>\n",
       "      <td>0.61</td>\n",
       "      <td>6.687</td>\n",
       "      <td>6.687</td>\n",
       "      <td>6.687</td>\n",
       "      <td>135836.88</td>\n",
       "      <td>135836.88</td>\n",
       "      <td>135836.88</td>\n",
       "      <td>1.51</td>\n",
       "    </tr>\n",
       "    <tr>\n",
       "      <th>2019-01-02</th>\n",
       "      <td>6.70</td>\n",
       "      <td>6.76</td>\n",
       "      <td>6.67</td>\n",
       "      <td>6.63</td>\n",
       "      <td>105431.06</td>\n",
       "      <td>0.03</td>\n",
       "      <td>0.45</td>\n",
       "      <td>6.683</td>\n",
       "      <td>6.683</td>\n",
       "      <td>6.683</td>\n",
       "      <td>128235.42</td>\n",
       "      <td>128235.42</td>\n",
       "      <td>128235.42</td>\n",
       "      <td>1.25</td>\n",
       "    </tr>\n",
       "    <tr>\n",
       "      <th>2019-01-03</th>\n",
       "      <td>6.67</td>\n",
       "      <td>6.88</td>\n",
       "      <td>6.73</td>\n",
       "      <td>6.65</td>\n",
       "      <td>147812.95</td>\n",
       "      <td>0.06</td>\n",
       "      <td>0.90</td>\n",
       "      <td>6.692</td>\n",
       "      <td>6.692</td>\n",
       "      <td>6.692</td>\n",
       "      <td>132150.93</td>\n",
       "      <td>132150.93</td>\n",
       "      <td>132150.93</td>\n",
       "      <td>1.75</td>\n",
       "    </tr>\n",
       "  </tbody>\n",
       "</table>\n",
       "</div>"
      ],
      "text/plain": [
       "            open  high  close   low     volume  price_change  p_change    ma5  \\\n",
       "date                                                                            \n",
       "2018-12-26  6.90  6.96   6.82  6.78  121353.57         -0.08     -1.16  6.820   \n",
       "2018-12-27  6.93  6.95   6.60  6.59  162765.00         -0.22     -3.23  6.710   \n",
       "2018-12-28  6.66  6.76   6.64  6.58  123392.06          0.04      0.61  6.687   \n",
       "2019-01-02  6.70  6.76   6.67  6.63  105431.06          0.03      0.45  6.683   \n",
       "2019-01-03  6.67  6.88   6.73  6.65  147812.95          0.06      0.90  6.692   \n",
       "\n",
       "             ma10   ma20      v_ma5     v_ma10     v_ma20  turnover  \n",
       "date                                                                 \n",
       "2018-12-26  6.820  6.820  121353.57  121353.57  121353.57      1.49  \n",
       "2018-12-27  6.710  6.710  142059.29  142059.29  142059.29      2.00  \n",
       "2018-12-28  6.687  6.687  135836.88  135836.88  135836.88      1.51  \n",
       "2019-01-02  6.683  6.683  128235.42  128235.42  128235.42      1.25  \n",
       "2019-01-03  6.692  6.692  132150.93  132150.93  132150.93      1.75  "
      ]
     },
     "execution_count": 6,
     "metadata": {},
     "output_type": "execute_result"
    }
   ],
   "source": [
    "df = df.sort_index()\n",
    "df.head()"
   ]
  },
  {
   "cell_type": "code",
   "execution_count": 7,
   "id": "0d930497",
   "metadata": {},
   "outputs": [
    {
     "data": {
      "text/plain": [
       "open            0.997069\n",
       "high            0.998879\n",
       "close           1.000000\n",
       "low             0.998807\n",
       "volume          0.631559\n",
       "price_change    0.081558\n",
       "p_change        0.071898\n",
       "ma5             0.994418\n",
       "ma10            0.987816\n",
       "ma20            0.972393\n",
       "v_ma5           0.698364\n",
       "v_ma10          0.736938\n",
       "v_ma20          0.762110\n",
       "turnover        0.593986\n",
       "Name: close, dtype: float64"
      ]
     },
     "execution_count": 7,
     "metadata": {},
     "output_type": "execute_result"
    }
   ],
   "source": [
    "df.corr()['close']"
   ]
  },
  {
   "cell_type": "code",
   "execution_count": 11,
   "id": "67380563",
   "metadata": {},
   "outputs": [],
   "source": [
    "# Picking the series with high correlation\n",
    "df = df[['open','high','volume','ma5','ma10','close']]"
   ]
  },
  {
   "cell_type": "code",
   "execution_count": 16,
   "id": "ae953bc1",
   "metadata": {},
   "outputs": [],
   "source": [
    "# Normalisation\n",
    "scaler = MinMaxScaler(feature_range=(0, 1))\n",
    "scaled = scaler.fit_transform(df)"
   ]
  },
  {
   "cell_type": "code",
   "execution_count": 145,
   "id": "d1d817f2",
   "metadata": {},
   "outputs": [],
   "source": [
    "# n_in: input timestep, n_out: output timestep\n",
    "n_in = 30\n",
    "n_vars = df.shape[1]\n",
    "n_out = 1"
   ]
  },
  {
   "cell_type": "code",
   "execution_count": 146,
   "id": "80e2f04a",
   "metadata": {},
   "outputs": [],
   "source": [
    "def series_to_supervised(data, n_in=1, n_out=1, dropnan=True):\n",
    "    n_vars = 1 if type(data) is list else data.shape[1]\n",
    "    df = DataFrame(data)\n",
    "    cols, names = [], []\n",
    "    #i: n_in, n_in-1, ..., 1，为滞后期数\n",
    "    #分别代表t-n_in, ... ,t-1期\n",
    "    for i in range(n_in, 0, -1):\n",
    "        cols.append(df.shift(i))\n",
    "        names += [('var%d(t-%d)' % (j+1, i)) for j in range(n_vars)]\n",
    "    #i: 0, 1, ..., n_out-1，为超前预测的期数\n",
    "    #分别代表t，t+1， ... ,t+n_out-1期\n",
    "    for i in range(0, n_out):\n",
    "        cols.append(df.shift(-i))\n",
    "        if i == 0:\n",
    "            names += [('var%d(t)' % (j+1)) for j in range(n_vars)]\n",
    "        else:\n",
    "            names += [('var%d(t+%d)' % (j+1, i)) for j in range(n_vars)]\n",
    "    agg = concat(cols, axis=1)\n",
    "    agg.columns = names\n",
    "    if dropnan:\n",
    "        agg.dropna(inplace=True)\n",
    "    return agg\n",
    "\n",
    "#将时间序列问题转化为监督学习问题\n",
    "reframed = series_to_supervised(scaled, n_in, n_out)"
   ]
  },
  {
   "cell_type": "code",
   "execution_count": 147,
   "id": "31396ac9",
   "metadata": {},
   "outputs": [],
   "source": [
    "# drop input Y and output X, if n_out > 1 need extra work \n",
    "reframed = reframed.drop(reframed.columns[[ (n * n_vars - 1) for n in range(1,n_in+1)]], axis =1)\n",
    "data = reframed.drop(reframed.columns[[ -n for n in range(2,n_vars+1)]], axis =1)"
   ]
  },
  {
   "cell_type": "code",
   "execution_count": 148,
   "id": "50bade35",
   "metadata": {},
   "outputs": [],
   "source": [
    "#分隔数据集，分为训练集和测试集\n",
    "train_proportion = 0.8\n",
    "\n",
    "values = data.values\n",
    "n_train = round(data.shape[0]*train_proportion)\n",
    "train = values[:n_train, :]\n",
    "test = values[n_train:, :]\n",
    "\n",
    "#分隔输入X和输出y\n",
    "train_X, train_y = train[:, :n_in*(n_vars-1)], train[:, n_in*(n_vars-1):]\n",
    "test_X, test_y = test[:, :n_in*(n_vars-1)], test[:, n_in*(n_vars-1):]\n",
    "\n",
    "#将输入X改造为LSTM的输入格式，即[samples,timesteps,features]\n",
    "train_X = train_X.reshape((train_X.shape[0], n_in, (n_vars-1)))\n",
    "test_X = test_X.reshape((test_X.shape[0], n_in, (n_vars-1)))"
   ]
  },
  {
   "cell_type": "code",
   "execution_count": 149,
   "id": "8e595879",
   "metadata": {},
   "outputs": [],
   "source": [
    "from tensorflow.keras.callbacks import EarlyStopping\n",
    "# Setting up an early stop\n",
    "earlystop = EarlyStopping(monitor='val_loss', min_delta=0.0001, patience=80,  verbose=1, mode='min')\n",
    "callbacks_list = [earlystop]"
   ]
  },
  {
   "cell_type": "code",
   "execution_count": 150,
   "id": "5c41af46",
   "metadata": {},
   "outputs": [],
   "source": [
    "#定义拟合LSTM模型的函数\n",
    "def fit_lstm(data_prepare, n_neurons=50, n_batch=72, n_epoch=100, loss='binary_crossentropy', optimizer='adam', metrics=['accuracy'], repeats=1):\n",
    "    train_X = data_prepare[2]\n",
    "    train_y = data_prepare[3]\n",
    "    test_X = data_prepare[4]\n",
    "    test_y = data_prepare[5]\n",
    "    model_list = []\n",
    "    for i in range(repeats):\n",
    "        #设计神经网络\n",
    "        model = Sequential()\n",
    "        model.add(LSTM(n_neurons,return_sequences = True, input_shape=(train_X.shape[1], train_X.shape[2])))\n",
    "        model.add(Dropout(0.2))\n",
    "        # Adding a second LSTM layer and some Dropout regularisation\n",
    "        model.add(LSTM(units = 50, return_sequences = True))\n",
    "        model.add(Dropout(0.2))\n",
    "        # Adding a third LSTM layer and some Dropout regularisation\n",
    "        model.add(LSTM(units = 50, return_sequences = True))\n",
    "        model.add(Dropout(0.2))\n",
    "        # Adding a fourth LSTM layer and some Dropout regularisation\n",
    "        model.add(LSTM(units = 50))\n",
    "        model.add(Dropout(0.2))\n",
    "        # Adding the output layer\n",
    "        model.add(Dense(units = 1))\n",
    "        # Compiling the RNN\n",
    "        model.compile(optimizer = 'adam', loss = 'mean_squared_error')\n",
    "        #拟合神经网络\n",
    "        history = model.fit(train_X, train_y, epochs=n_epoch, batch_size=n_batch, validation_data=(test_X, test_y), verbose=0, shuffle=False, callbacks=callbacks_list)\n",
    "        #画出学习过程\n",
    "        p1 = pyplot.plot(history.history['loss'], color='blue', label='train_loss')\n",
    "        p2 = pyplot.plot(history.history['val_loss'], color='yellow',label='test_loss')\n",
    "        #保存model\n",
    "        model_list.append(model)\n",
    "    pyplot.legend([\"train_loss\",\"test_loss\"])\n",
    "    pyplot.show()\n",
    "    return model_list\n",
    "\n",
    "def lstm_predict(model, data_prepare,scaler):\n",
    "    \"\"\"\n",
    "    定义预测的函数\n",
    "    \"\"\"\n",
    "    #scaler = data_prepare[0]\n",
    "    test_X = data_prepare[4]\n",
    "    test_y = data_prepare[5]\n",
    "    #做出预测\n",
    "    yhat = model.predict(test_X)\n",
    "    #将测试集上的预测值还原为原来的数据维度\n",
    "    scale_new = MinMaxScaler()\n",
    "    scale_new.min_, scale_new.scale_ = scaler.min_[0], scaler.scale_[0]\n",
    "    inv_yhat = scale_new.inverse_transform(yhat)\n",
    "    #将测试集上的实际值还原为原来的数据维度\n",
    "    inv_y = scale_new.inverse_transform(test_y)\n",
    "    return inv_yhat, inv_y\n",
    "\n",
    "# Evaluating the model\n",
    "from sklearn.metrics import mean_squared_error, r2_score\n",
    "def evaluate_model(y_hat_list,y_test_list):\n",
    "    mse_list = []\n",
    "    rmse_list = []\n",
    "    r_list = []\n",
    "    for Y_test,Y_hat in zip(y_test_list,y_hat_list):\n",
    "        mse = mean_squared_error(Y_test,Y_hat)\n",
    "        rmse = sqrt(mse)\n",
    "        r = r2_score(Y_test,Y_hat)\n",
    "        mse_list.append(mse)\n",
    "        rmse_list.append(rmse)\n",
    "        r_list.append(r)\n",
    "    return mse_list, rmse_list, r_list\n",
    "\n",
    "import matplotlib.pyplot as plt\n",
    "# Plotting the predictions\n",
    "def plot_data(Y_test,Y_hat):\n",
    "    plt.plot(Y_test,c = 'r')\n",
    "    plt.plot(Y_hat,c = 'y')\n",
    "    plt.xlabel('Day')\n",
    "    plt.ylabel('Price')\n",
    "    plt.title('Stock Prediction Graph using Multivariate-LSTM model')\n",
    "    plt.legend(['Actual','Predicted'],loc = 'lower right')\n",
    "    plt.show()"
   ]
  },
  {
   "cell_type": "code",
   "execution_count": 151,
   "id": "926e493d",
   "metadata": {},
   "outputs": [
    {
     "data": {
      "image/png": "[encoded data removed]",
      "text/plain": [
       "<Figure size 432x288 with 1 Axes>"
      ]
     },
     "metadata": {
      "needs_background": "light"
     },
     "output_type": "display_data"
    }
   ],
   "source": [
    "# 1.trian model\n",
    "n_neuron = 50\n",
    "n_batch = 16\n",
    "n_epoch = 400\n",
    "repeats = 1\n",
    "data_prepare = ['', '', train_X, train_y, test_X, test_y, '']\n",
    "model_list = fit_lstm(data_prepare, n_neuron, n_batch, n_epoch,repeats=repeats)"
   ]
  },
  {
   "cell_type": "code",
   "execution_count": 152,
   "id": "ea9d7fb3",
   "metadata": {},
   "outputs": [
    {
     "data": {
      "text/plain": [
       "([8.571726261786093], [2.927751058711463], [0.1857611980204581])"
      ]
     },
     "execution_count": 152,
     "metadata": {},
     "output_type": "execute_result"
    }
   ],
   "source": [
    "# 2.validate score\n",
    "inv_yhat_list = []\n",
    "inv_y_list = []\n",
    "for i in range(len(model_list)):\n",
    "    model = model_list[i]\n",
    "    inv_yhat = lstm_predict(model, data_prepare, scaler)[0]\n",
    "    inv_y = lstm_predict(model, data_prepare, scaler)[1]\n",
    "    inv_yhat_list.append(inv_yhat)\n",
    "    inv_y_list.append(inv_y)\n",
    "\n",
    "mse_list, rmse_list, r_list = evaluate_model(inv_yhat_list,inv_y_list)\n",
    "mse_list, rmse_list, r_list"
   ]
  },
  {
   "cell_type": "code",
   "execution_count": 153,
   "id": "a3631137",
   "metadata": {},
   "outputs": [
    {
     "data": {
      "image/png": "[encoded data removed]",
      "text/plain": [
       "<Figure size 432x288 with 1 Axes>"
      ]
     },
     "metadata": {
      "needs_background": "light"
     },
     "output_type": "display_data"
    }
   ],
   "source": [
    "# 3.plot price\n",
    "plot_data(inv_y_list[0],inv_yhat_list[0])"
   ]
  },
  {
   "cell_type": "code",
   "execution_count": null,
   "id": "c1326c3b",
   "metadata": {},
   "outputs": [],
   "source": []
  }
 ],
 "metadata": {
  "kernelspec": {
   "display_name": "Python 3.8 - AzureML",
   "language": "python",
   "name": "python38-azureml"
  },
  "language_info": {
   "codemirror_mode": {
    "name": "ipython",
    "version": 3
   },
   "file_extension": ".py",
   "mimetype": "text/x-python",
   "name": "python",
   "nbconvert_exporter": "python",
   "pygments_lexer": "ipython3",
   "version": "3.8.1"
  }
 },
 "nbformat": 4,
 "nbformat_minor": 5
}
